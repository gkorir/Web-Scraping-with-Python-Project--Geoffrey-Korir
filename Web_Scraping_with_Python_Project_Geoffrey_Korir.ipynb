{
  "nbformat": 4,
  "nbformat_minor": 0,
  "metadata": {
    "colab": {
      "provenance": [],
      "collapsed_sections": [
        "Tcso2rJCNAGq",
        "CRmt1rRHgZRG",
        "h7iRb8U8hHNw",
        "_OxuOAIXhPl5",
        "7ePXABAihaKn"
      ],
      "toc_visible": true
    },
    "kernelspec": {
      "name": "python3",
      "display_name": "Python 3"
    }
  },
  "cells": [
    {
      "cell_type": "markdown",
      "metadata": {
        "id": "7i5A-UY4Yruf"
      },
      "source": [
        "<font color='#2F4F4F'>To use this notebook on Colaboratory, you will need to make a copy of it. Go to File > Save a Copy in Drive. You can then use the new copy that will appear in the new tab.</font>\n"
      ]
    },
    {
      "cell_type": "markdown",
      "metadata": {
        "id": "0rOdcI2Nzhky"
      },
      "source": [
        "# <font color='#2F4F4F'>AfterWork Data Science: Web Scraping with Python</font>"
      ]
    },
    {
      "cell_type": "markdown",
      "source": [
        "## problem statement :\n",
        "Job seekers are not able to locate the available position among the start up companies in the market. we are to come up with a web scrapping for job titles and links and avail them in a table where it can be easily available.  "
      ],
      "metadata": {
        "id": "TvXraPjRuqDW"
      }
    },
    {
      "cell_type": "markdown",
      "source": [
        "## Project Deliverables\n",
        "We will be required to come up with a Python notebook with our web scrapping solution"
      ],
      "metadata": {
        "id": "O6TU975BwYVl"
      }
    },
    {
      "cell_type": "markdown",
      "source": [
        "## SourceData \n",
        "The following three links will be used as a data source for our scrapping solution:\n",
        "\n",
        "PigiaMe: https://www.pigiame.co.ke/it-software-jobs\n",
        "\n",
        "MyJobMag: https://www.myjobmag.co.ke/jobs-by-field/information-technology\n",
        "\n",
        "KenyaJob: https://www.kenyajob.com/job-vacancies-search-kenya?f%5B0%5D=im_field_offre_secteur%3A133"
      ],
      "metadata": {
        "id": "d4BGBUBBw4F6"
      }
    },
    {
      "cell_type": "markdown",
      "metadata": {
        "id": "Tcso2rJCNAGq"
      },
      "source": [
        "## <font color='#2F4F4F'>Prerequisites</font>"
      ]
    },
    {
      "cell_type": "code",
      "metadata": {
        "id": "QSHljMZTNCRI"
      },
      "source": [
        "# We first import the required libraries\n",
        "# ---\n",
        "#\n",
        "import pandas as pd             # library for data manupation\n",
        "import requests                 # library for fetching a web page \n",
        "from bs4 import BeautifulSoup   # library for extrating contents from a webpage "
      ],
      "execution_count": 4,
      "outputs": []
    },
    {
      "cell_type": "markdown",
      "metadata": {
        "id": "CRmt1rRHgZRG"
      },
      "source": [
        "## <font color='#2F4F4F'>Step 1: Obtaining our Data</font>"
      ]
    },
    {
      "cell_type": "code",
      "metadata": {
        "id": "cM5TKD-P1h7Z",
        "colab": {
          "base_uri": "https://localhost:8080/"
        },
        "outputId": "7567ba56-ac31-4aab-b71f-203636875402"
      },
      "source": [
        "# PigiaMe: https://www.pigiame.co.ke/it-software-jobs\n",
        "# ---\n",
        "#\n",
        "pigia_me = requests.get('https://www.pigiame.co.ke/it-software-jobs')\n",
        "pigia_me"
      ],
      "execution_count": 5,
      "outputs": [
        {
          "output_type": "execute_result",
          "data": {
            "text/plain": [
              "<Response [200]>"
            ]
          },
          "metadata": {},
          "execution_count": 5
        }
      ]
    },
    {
      "cell_type": "code",
      "metadata": {
        "id": "OfUvfxrD1nQC",
        "colab": {
          "base_uri": "https://localhost:8080/"
        },
        "outputId": "de911976-0af6-4706-c580-799954c471d5"
      },
      "source": [
        "# MyJobMag: https://www.myjobmag.co.ke/jobs-by-field/information-technology\n",
        "# ---\n",
        "#\n",
        "My_JobMag = requests.get('https://www.myjobmag.co.ke/jobs-by-field/information-technology')\n",
        "My_JobMag"
      ],
      "execution_count": 6,
      "outputs": [
        {
          "output_type": "execute_result",
          "data": {
            "text/plain": [
              "<Response [200]>"
            ]
          },
          "metadata": {},
          "execution_count": 6
        }
      ]
    },
    {
      "cell_type": "code",
      "metadata": {
        "id": "psWrYhRUQDJC",
        "colab": {
          "base_uri": "https://localhost:8080/"
        },
        "outputId": "237578fa-190a-423f-8630-a39e96cf6e24"
      },
      "source": [
        "# KenyanJob: https://www.kenyajob.com/job-vacancies-search-kenya?f%5B0%5D=im_field_offre_secteur%3A133\n",
        "# ---\n",
        "#\n",
        "kenyan_job = requests.get('https://www.kenyajob.com/job-vacancies-search-kenya?f%5B0%5D=im_field_offre_secteur%3A133')\n",
        "kenyan_job"
      ],
      "execution_count": 7,
      "outputs": [
        {
          "output_type": "execute_result",
          "data": {
            "text/plain": [
              "<Response [200]>"
            ]
          },
          "metadata": {},
          "execution_count": 7
        }
      ]
    },
    {
      "cell_type": "markdown",
      "metadata": {
        "id": "h7iRb8U8hHNw"
      },
      "source": [
        "## <font color='#2F4F4F'>Step 2: Parsing</font>"
      ]
    },
    {
      "cell_type": "code",
      "metadata": {
        "id": "AXWSK1kD2oeN"
      },
      "source": [
        "# Parsing our document: pigia_me\n",
        "# ---\n",
        "# \n",
        "pigia_me_soup = BeautifulSoup(pigia_me.text, 'html.parser')\n",
        "#pigia_me_soup"
      ],
      "execution_count": 8,
      "outputs": []
    },
    {
      "cell_type": "code",
      "metadata": {
        "id": "lrH9mgR82pzg"
      },
      "source": [
        "# Parsing our document: my_job_mag\n",
        "# ---\n",
        "#  \n",
        "My_JobMag_soup = BeautifulSoup(My_JobMag.text, 'html.parser')\n",
        "#My_JobMag_soup"
      ],
      "execution_count": 9,
      "outputs": []
    },
    {
      "cell_type": "code",
      "metadata": {
        "id": "O0x-Wz03QP5O"
      },
      "source": [
        "# Parsing our document: kenyan_job\n",
        "# ---\n",
        "# \n",
        "kenyan_job_soup = BeautifulSoup(kenyan_job.text, 'html.parser')\n",
        "#kenyan_job_soup"
      ],
      "execution_count": 10,
      "outputs": []
    },
    {
      "cell_type": "markdown",
      "metadata": {
        "id": "_OxuOAIXhPl5"
      },
      "source": [
        "## <font color='#2F4F4F'>Step 3: Extracting Required Elements</font>"
      ]
    },
    {
      "cell_type": "code",
      "metadata": {
        "id": "e2p147_LICKn",
        "colab": {
          "base_uri": "https://localhost:8080/"
        },
        "outputId": "64db6deb-8c46-4c01-8434-2eea533c842d"
      },
      "source": [
        "# 1. Extracting job titles and links: pigia me\n",
        "# ---\n",
        "# \n",
        "# its iportant to locate where the tags for the job titles\n",
        "jobs_pigia_me = pigia_me_soup.find_all('div', class_ = \"listings-cards__list-item \")\n",
        "\n",
        "# Create 2 empty lists for our job location\n",
        "jobs_pigiame_title = []\n",
        "jobs_pigiame_links = []\n",
        "\n",
        "# create a for loop to iterate thrugh the located jobs\n",
        "for x in jobs_pigia_me:\n",
        "  # we strip for white spaces after finding the job\n",
        "  title = x.find('div', class_ = 'listing-card__header__title').text.strip()\n",
        "  # find the link text in the a tag \n",
        "  link = x.a['href']\n",
        "  # appending our results\n",
        "  jobs_pigiame_title.append(title)\n",
        "  jobs_pigiame_links.append(link)\n",
        "\n",
        "#finally we print our results\n",
        "print(jobs_pigiame_title)\n",
        "print(jobs_pigiame_links)"
      ],
      "execution_count": 11,
      "outputs": [
        {
          "output_type": "stream",
          "name": "stdout",
          "text": [
            "['Software Development Java, nodeJs (Onsite Nyeri) entry level', 'Frontend Developer Reframe', 'Chatbot Developer', 'Assistant IT Administrator', 'Frontend Developer', 'CRM Enginee', 'Analyst Programmer', 'Senior Game Developer', 'Lead Full Stack Engineer', 'Senior Front-end Developer']\n",
            "['https://www.pigiame.co.ke/listings/software-development-java-nodejs-onsite-nyeri-entry-level-5474653', 'https://www.pigiame.co.ke/listings/frontend-developer-reframe-5473981', 'https://www.pigiame.co.ke/listings/chatbot-developer-5472628', 'https://www.pigiame.co.ke/listings/assistant-it-administrator-5471542', 'https://www.pigiame.co.ke/listings/frontend-developer-5471441', 'https://www.pigiame.co.ke/listings/crm-enginee-5471294', 'https://www.pigiame.co.ke/listings/analyst-programmer-5469047', 'https://www.pigiame.co.ke/listings/senior-game-developer-5468130', 'https://www.pigiame.co.ke/listings/lead-full-stack-engineer-5467710', 'https://www.pigiame.co.ke/listings/senior-front-end-developer-5467695']\n"
          ]
        }
      ]
    },
    {
      "cell_type": "code",
      "metadata": {
        "id": "NNLbrng_3QfA",
        "colab": {
          "base_uri": "https://localhost:8080/"
        },
        "outputId": "776d2eb0-32bb-49af-dd9c-a94d944d89bc"
      },
      "source": [
        "# 2. Extracting job titles: my_job_mag\n",
        "# ---\n",
        "# \n",
        "#locate the tags for the jobs \n",
        "jobs_my_job_mag = My_JobMag_soup.find_all('li', class_ = \"job-list-li\")\n",
        "\n",
        "#create two empty lists to keep the located jobs \n",
        "\n",
        "jobs_my_job_mag_title = []\n",
        "jobs_my_job_mag_links = []\n",
        "\n",
        "# create a for loop to iterate through jobs located\n",
        "for x in jobs_my_job_mag:\n",
        "    \n",
        "    if x.h2:\n",
        "      \n",
        "      title = x.h2.text.strip()\n",
        "      \n",
        "      link = link = 'https://www.myjobmag.co.ke' + x.h2.a['href']\n",
        "      \n",
        "      # appending the results to our empty lists\n",
        "      jobs_my_job_mag_title.append(title)\n",
        "      jobs_my_job_mag_links.append(link)\n",
        "\n",
        "# Printing our desired results\n",
        "print(jobs_my_job_mag_title)\n",
        "print(jobs_my_job_mag_links)"
      ],
      "execution_count": 12,
      "outputs": [
        {
          "output_type": "stream",
          "name": "stdout",
          "text": [
            "['Senior Application Security Engineer at Cellulant Corporation', 'Shopify Developer at Crystal Recruit', 'Senior Software Engineer at One Acre Fund', 'IDEMA MBSS Support Engineer at Innovative Software Technologies Ltd', 'Officer ICT for Development (ICT4D) at Concern Worldwide', 'Group Model Risk Validation Senior Manager (Financial Crime / Fraud Model / AML Model Validation) at CA Global', 'Head Digital Engineering at NCBA Group', 'Software Developer at Aga Khan Development Network (AKDN)', 'Internal Control Manager at ENGIE', 'Digital & E-Channels Support Officer at Co-operative Bank of Kenya', 'Geographical Information Systems Specialist (GIS) at Medecins Sans Frontieres (MSF)', 'Senior CRM Officer at Amref Kenya', 'Junior OPENMRS Developer at University of California San Francisco (UCSF)', 'Junior Frontend Developer at University of California San Francisco (UCSF)', 'Senior PHP Software Engineer at Deimos', 'Principal Software Engineer at Deimos', 'Agile Project Manager at Deimos', 'User Experience Designer at GOODINFO']\n",
            "['https://www.myjobmag.co.ke/job/senior-application-security-engineer-cellulant-corporation-1', 'https://www.myjobmag.co.ke/job/shopify-developer-crystal-recruit', 'https://www.myjobmag.co.ke/job/senior-software-engineer-one-acre-fund', 'https://www.myjobmag.co.ke/job/idema-mbss-support-engineer-innovative-software-technologies-ltd', 'https://www.myjobmag.co.ke/job/officer-ict-for-development-ict4d-concern-worldwide', 'https://www.myjobmag.co.ke/job/group-model-risk-validation-senior-manager-financial-crime-fraud-model-aml-model-validation-ca-global', 'https://www.myjobmag.co.ke/job/head-digital-engineering-ncba-group', 'https://www.myjobmag.co.ke/job/software-developer-aga-khan-development-network-akdn', 'https://www.myjobmag.co.ke/job/internal-control-manager-engie-1', 'https://www.myjobmag.co.ke/job/digital-e-channels-support-officer-co-operative-bank-of-kenya-2', 'https://www.myjobmag.co.ke/job/geographical-information-systems-specialist-gis-medecins-sans-frontieres-msf', 'https://www.myjobmag.co.ke/job/senior-crm-officer-amref-kenya', 'https://www.myjobmag.co.ke/job/junior-openmrs-developer-university-of-california-san-francisco-ucsf', 'https://www.myjobmag.co.ke/job/university-of-california-san-francisco-ucsf-university-of-california-san-francisco-ucsf', 'https://www.myjobmag.co.ke/job/senior-php-software-engineer-deimos-2', 'https://www.myjobmag.co.ke/job/principal-software-engineer-deimos-2', 'https://www.myjobmag.co.ke/job/agile-project-manager-deimos-2', 'https://www.myjobmag.co.ke/job/user-experience-designer-goodinfo']\n"
          ]
        }
      ]
    },
    {
      "cell_type": "code",
      "metadata": {
        "id": "I0fQKn63QV0R",
        "colab": {
          "base_uri": "https://localhost:8080/"
        },
        "outputId": "db8600c7-f5f3-45a2-a5f1-2686ba31641f"
      },
      "source": [
        "# 3. Extracting job titles: kenya_job\n",
        "# ---\n",
        "#\n",
        "# We locate the tags where the jobs are\n",
        "jobs_kenya_job = kenyan_job_soup.find_all('div', class_ = \"job-description-wrapper\")\n",
        "\n",
        "# creating 2 empty lists to store the jobs \n",
        "kenya_job_title = []\n",
        "kenya_job_links = []\n",
        "\n",
        "#creating a for loop to iterate throuh jobs found\n",
        "for x in jobs_kenya_job:\n",
        "  \n",
        "  link = x['data-href']\n",
        "  \n",
        "  title = x.text.strip().split('\\n')[0]\n",
        "\n",
        "  # we then append our results to our empty lists\n",
        "  kenya_job_title.append(link)\n",
        "  kenya_job_links.append(title)\n",
        "\n",
        "# Print the results in the two lists\n",
        "print(kenya_job_title)\n",
        "print(kenya_job_links)\n"
      ],
      "execution_count": 13,
      "outputs": [
        {
          "output_type": "stream",
          "name": "stdout",
          "text": [
            "['https://www.kenyajob.com/job-vacancies-kenya/java-ee-java-8-developer-sql-skills-130458', 'https://www.kenyajob.com/job-vacancies-kenya/senior-freelance-web-designer-130459', 'https://www.kenyajob.com/job-vacancies-kenya/business-development-assistant-132274', 'https://www.kenyajob.com/job-vacancies-kenya/cctv-fire-alarms-systems-technician-127106', 'https://www.kenyajob.com/job-vacancies-kenya/cctv-fire-alarms-systems-technician-127107', 'https://www.kenyajob.com/job-vacancies-kenya/information-technology-sales-specialist-129253', 'https://www.kenyajob.com/job-vacancies-kenya/aws-cloud-architect-mf-129511', 'https://www.kenyajob.com/job-vacancies-kenya/aws-solutions-architect-mf-129512', 'https://www.kenyajob.com/job-vacancies-kenya/azure-solutions-architect-mf-129513', 'https://www.kenyajob.com/job-vacancies-kenya/cloud-architect-mf-129514', 'https://www.kenyajob.com/job-vacancies-kenya/cloud-computing-virtualization-engineer-mf-129515', 'https://www.kenyajob.com/job-vacancies-kenya/cloud-engineer-mf-129516', 'https://www.kenyajob.com/job-vacancies-kenya/cloud-microservices-architect-mf-129517', 'https://www.kenyajob.com/job-vacancies-kenya/cloud-system-administrator-mf-129518', 'https://www.kenyajob.com/job-vacancies-kenya/cloud-system-integrator-mf-129519', 'https://www.kenyajob.com/job-vacancies-kenya/cyber-security-engineer-mf-129520', 'https://www.kenyajob.com/job-vacancies-kenya/datastage-architect-mf-129521', 'https://www.kenyajob.com/job-vacancies-kenya/genesys-architect-mf-129522', 'https://www.kenyajob.com/job-vacancies-kenya/network-architect-mf-129523', 'https://www.kenyajob.com/job-vacancies-kenya/angular-developer-mf-129524', 'https://www.kenyajob.com/job-vacancies-kenya/devops-engineer-mf-129525', 'https://www.kenyajob.com/job-vacancies-kenya/dotnet-developer-mf-129526', 'https://www.kenyajob.com/job-vacancies-kenya/ios-developer-mf-129527', 'https://www.kenyajob.com/job-vacancies-kenya/java-developer-mf-129528', 'https://www.kenyajob.com/job-vacancies-kenya/java-jee-developer-mf-129529']\n",
            "['JAVA EE / JAVA 8 Developer with SQL Skills', 'Senior Freelance Web Designer', 'Business Development Assistant', 'CCTV and Fire Alarms Systems Technician', 'CCTV and Fire Alarms Systems Technician', 'Information Technology Sales Specialist', 'AWS Cloud Architect (M/F)', 'AWS Solutions Architect (M/F)', 'AZURE Solutions Architect (M/F)', 'Cloud Architect (M/F)', 'Cloud Computing and Virtualization Engineer (M/F)', 'Cloud Engineer (M/F)', 'Cloud Microservices Architect (M/F)', 'Cloud System Administrator (M/F)', 'Cloud System Integrator (M/F)', 'Cyber Security Engineer (M/F)', 'DATASTAGE Architect (M/F)', 'GENESYS Architect (M/F)', 'Network Architect (M/F)', 'ANGULAR Developer (M/F)', 'DevOps Engineer (M/F)', 'DOTNET Developer (M/F)', 'IOS Developer (M/F)', 'JAVA Developer (M/F)', 'JAVA JEE Developer (M/F)']\n"
          ]
        }
      ]
    },
    {
      "cell_type": "markdown",
      "metadata": {
        "id": "7ePXABAihaKn"
      },
      "source": [
        "## <font color='#2F4F4F'>Step 4: Saving our Data</font>"
      ]
    },
    {
      "cell_type": "code",
      "metadata": {
        "id": "fsG9pQXk5f8y",
        "colab": {
          "base_uri": "https://localhost:8080/",
          "height": 206
        },
        "outputId": "49c1679c-286c-4166-ef5b-ef3f623b7056"
      },
      "source": [
        "# Saving the scraped job titles in a dataframe and previewing it\n",
        "# ---\n",
        "#\n",
        "# To achieve this , we combine the lists we got\n",
        "jobs_titles = jobs_pigiame_title + jobs_my_job_mag_title + kenya_job_title\n",
        "\n",
        "#creating a pandas data Frame for the job titles\n",
        "df_jobs = pd.DataFrame({\"jobs_title\": jobs_titles})\n",
        "\n",
        "#Getting top 5 jobs \n",
        "\n",
        "df_jobs.head(5)"
      ],
      "execution_count": 16,
      "outputs": [
        {
          "output_type": "execute_result",
          "data": {
            "text/plain": [
              "                                          jobs_title\n",
              "0  Software Development Java, nodeJs (Onsite Nyer...\n",
              "1                         Frontend Developer Reframe\n",
              "2                                  Chatbot Developer\n",
              "3                         Assistant IT Administrator\n",
              "4                                 Frontend Developer"
            ],
            "text/html": [
              "\n",
              "  <div id=\"df-e3b9d9ce-cba2-439b-8230-b51e3a953653\">\n",
              "    <div class=\"colab-df-container\">\n",
              "      <div>\n",
              "<style scoped>\n",
              "    .dataframe tbody tr th:only-of-type {\n",
              "        vertical-align: middle;\n",
              "    }\n",
              "\n",
              "    .dataframe tbody tr th {\n",
              "        vertical-align: top;\n",
              "    }\n",
              "\n",
              "    .dataframe thead th {\n",
              "        text-align: right;\n",
              "    }\n",
              "</style>\n",
              "<table border=\"1\" class=\"dataframe\">\n",
              "  <thead>\n",
              "    <tr style=\"text-align: right;\">\n",
              "      <th></th>\n",
              "      <th>jobs_title</th>\n",
              "    </tr>\n",
              "  </thead>\n",
              "  <tbody>\n",
              "    <tr>\n",
              "      <th>0</th>\n",
              "      <td>Software Development Java, nodeJs (Onsite Nyer...</td>\n",
              "    </tr>\n",
              "    <tr>\n",
              "      <th>1</th>\n",
              "      <td>Frontend Developer Reframe</td>\n",
              "    </tr>\n",
              "    <tr>\n",
              "      <th>2</th>\n",
              "      <td>Chatbot Developer</td>\n",
              "    </tr>\n",
              "    <tr>\n",
              "      <th>3</th>\n",
              "      <td>Assistant IT Administrator</td>\n",
              "    </tr>\n",
              "    <tr>\n",
              "      <th>4</th>\n",
              "      <td>Frontend Developer</td>\n",
              "    </tr>\n",
              "  </tbody>\n",
              "</table>\n",
              "</div>\n",
              "      <button class=\"colab-df-convert\" onclick=\"convertToInteractive('df-e3b9d9ce-cba2-439b-8230-b51e3a953653')\"\n",
              "              title=\"Convert this dataframe to an interactive table.\"\n",
              "              style=\"display:none;\">\n",
              "        \n",
              "  <svg xmlns=\"http://www.w3.org/2000/svg\" height=\"24px\"viewBox=\"0 0 24 24\"\n",
              "       width=\"24px\">\n",
              "    <path d=\"M0 0h24v24H0V0z\" fill=\"none\"/>\n",
              "    <path d=\"M18.56 5.44l.94 2.06.94-2.06 2.06-.94-2.06-.94-.94-2.06-.94 2.06-2.06.94zm-11 1L8.5 8.5l.94-2.06 2.06-.94-2.06-.94L8.5 2.5l-.94 2.06-2.06.94zm10 10l.94 2.06.94-2.06 2.06-.94-2.06-.94-.94-2.06-.94 2.06-2.06.94z\"/><path d=\"M17.41 7.96l-1.37-1.37c-.4-.4-.92-.59-1.43-.59-.52 0-1.04.2-1.43.59L10.3 9.45l-7.72 7.72c-.78.78-.78 2.05 0 2.83L4 21.41c.39.39.9.59 1.41.59.51 0 1.02-.2 1.41-.59l7.78-7.78 2.81-2.81c.8-.78.8-2.07 0-2.86zM5.41 20L4 18.59l7.72-7.72 1.47 1.35L5.41 20z\"/>\n",
              "  </svg>\n",
              "      </button>\n",
              "      \n",
              "  <style>\n",
              "    .colab-df-container {\n",
              "      display:flex;\n",
              "      flex-wrap:wrap;\n",
              "      gap: 12px;\n",
              "    }\n",
              "\n",
              "    .colab-df-convert {\n",
              "      background-color: #E8F0FE;\n",
              "      border: none;\n",
              "      border-radius: 50%;\n",
              "      cursor: pointer;\n",
              "      display: none;\n",
              "      fill: #1967D2;\n",
              "      height: 32px;\n",
              "      padding: 0 0 0 0;\n",
              "      width: 32px;\n",
              "    }\n",
              "\n",
              "    .colab-df-convert:hover {\n",
              "      background-color: #E2EBFA;\n",
              "      box-shadow: 0px 1px 2px rgba(60, 64, 67, 0.3), 0px 1px 3px 1px rgba(60, 64, 67, 0.15);\n",
              "      fill: #174EA6;\n",
              "    }\n",
              "\n",
              "    [theme=dark] .colab-df-convert {\n",
              "      background-color: #3B4455;\n",
              "      fill: #D2E3FC;\n",
              "    }\n",
              "\n",
              "    [theme=dark] .colab-df-convert:hover {\n",
              "      background-color: #434B5C;\n",
              "      box-shadow: 0px 1px 3px 1px rgba(0, 0, 0, 0.15);\n",
              "      filter: drop-shadow(0px 1px 2px rgba(0, 0, 0, 0.3));\n",
              "      fill: #FFFFFF;\n",
              "    }\n",
              "  </style>\n",
              "\n",
              "      <script>\n",
              "        const buttonEl =\n",
              "          document.querySelector('#df-e3b9d9ce-cba2-439b-8230-b51e3a953653 button.colab-df-convert');\n",
              "        buttonEl.style.display =\n",
              "          google.colab.kernel.accessAllowed ? 'block' : 'none';\n",
              "\n",
              "        async function convertToInteractive(key) {\n",
              "          const element = document.querySelector('#df-e3b9d9ce-cba2-439b-8230-b51e3a953653');\n",
              "          const dataTable =\n",
              "            await google.colab.kernel.invokeFunction('convertToInteractive',\n",
              "                                                     [key], {});\n",
              "          if (!dataTable) return;\n",
              "\n",
              "          const docLinkHtml = 'Like what you see? Visit the ' +\n",
              "            '<a target=\"_blank\" href=https://colab.research.google.com/notebooks/data_table.ipynb>data table notebook</a>'\n",
              "            + ' to learn more about interactive tables.';\n",
              "          element.innerHTML = '';\n",
              "          dataTable['output_type'] = 'display_data';\n",
              "          await google.colab.output.renderOutput(dataTable, element);\n",
              "          const docLink = document.createElement('div');\n",
              "          docLink.innerHTML = docLinkHtml;\n",
              "          element.appendChild(docLink);\n",
              "        }\n",
              "      </script>\n",
              "    </div>\n",
              "  </div>\n",
              "  "
            ]
          },
          "metadata": {},
          "execution_count": 16
        }
      ]
    },
    {
      "cell_type": "code",
      "source": [
        "# Saving the scraped job url links in a dataframe and previewing it\n",
        "\n",
        "# To achieve this , we combine the lists we got\n",
        "jobs_url_links = jobs_pigiame_links + jobs_my_job_mag_links + kenya_job_links\n",
        "\n",
        "# we then create a pandas data Frame for jobs urls links.\n",
        "\n",
        "df_urls = pd.DataFrame({\"link_url\": jobs_url_links})\n",
        "\n",
        "#Getting top 5 jobs\n",
        "df_urls.head(5)\n",
        "\n",
        "\n",
        "\n",
        "\n",
        "\n"
      ],
      "metadata": {
        "colab": {
          "base_uri": "https://localhost:8080/",
          "height": 206
        },
        "id": "uFig0XjbPJjP",
        "outputId": "ea9498e0-2762-4818-b895-4a6c211d9ed5"
      },
      "execution_count": 19,
      "outputs": [
        {
          "output_type": "execute_result",
          "data": {
            "text/plain": [
              "                                            link_url\n",
              "0  https://www.pigiame.co.ke/listings/software-de...\n",
              "1  https://www.pigiame.co.ke/listings/frontend-de...\n",
              "2  https://www.pigiame.co.ke/listings/chatbot-dev...\n",
              "3  https://www.pigiame.co.ke/listings/assistant-i...\n",
              "4  https://www.pigiame.co.ke/listings/frontend-de..."
            ],
            "text/html": [
              "\n",
              "  <div id=\"df-b1d2e0ec-c421-4c2f-ba13-301d17e96641\">\n",
              "    <div class=\"colab-df-container\">\n",
              "      <div>\n",
              "<style scoped>\n",
              "    .dataframe tbody tr th:only-of-type {\n",
              "        vertical-align: middle;\n",
              "    }\n",
              "\n",
              "    .dataframe tbody tr th {\n",
              "        vertical-align: top;\n",
              "    }\n",
              "\n",
              "    .dataframe thead th {\n",
              "        text-align: right;\n",
              "    }\n",
              "</style>\n",
              "<table border=\"1\" class=\"dataframe\">\n",
              "  <thead>\n",
              "    <tr style=\"text-align: right;\">\n",
              "      <th></th>\n",
              "      <th>link_url</th>\n",
              "    </tr>\n",
              "  </thead>\n",
              "  <tbody>\n",
              "    <tr>\n",
              "      <th>0</th>\n",
              "      <td>https://www.pigiame.co.ke/listings/software-de...</td>\n",
              "    </tr>\n",
              "    <tr>\n",
              "      <th>1</th>\n",
              "      <td>https://www.pigiame.co.ke/listings/frontend-de...</td>\n",
              "    </tr>\n",
              "    <tr>\n",
              "      <th>2</th>\n",
              "      <td>https://www.pigiame.co.ke/listings/chatbot-dev...</td>\n",
              "    </tr>\n",
              "    <tr>\n",
              "      <th>3</th>\n",
              "      <td>https://www.pigiame.co.ke/listings/assistant-i...</td>\n",
              "    </tr>\n",
              "    <tr>\n",
              "      <th>4</th>\n",
              "      <td>https://www.pigiame.co.ke/listings/frontend-de...</td>\n",
              "    </tr>\n",
              "  </tbody>\n",
              "</table>\n",
              "</div>\n",
              "      <button class=\"colab-df-convert\" onclick=\"convertToInteractive('df-b1d2e0ec-c421-4c2f-ba13-301d17e96641')\"\n",
              "              title=\"Convert this dataframe to an interactive table.\"\n",
              "              style=\"display:none;\">\n",
              "        \n",
              "  <svg xmlns=\"http://www.w3.org/2000/svg\" height=\"24px\"viewBox=\"0 0 24 24\"\n",
              "       width=\"24px\">\n",
              "    <path d=\"M0 0h24v24H0V0z\" fill=\"none\"/>\n",
              "    <path d=\"M18.56 5.44l.94 2.06.94-2.06 2.06-.94-2.06-.94-.94-2.06-.94 2.06-2.06.94zm-11 1L8.5 8.5l.94-2.06 2.06-.94-2.06-.94L8.5 2.5l-.94 2.06-2.06.94zm10 10l.94 2.06.94-2.06 2.06-.94-2.06-.94-.94-2.06-.94 2.06-2.06.94z\"/><path d=\"M17.41 7.96l-1.37-1.37c-.4-.4-.92-.59-1.43-.59-.52 0-1.04.2-1.43.59L10.3 9.45l-7.72 7.72c-.78.78-.78 2.05 0 2.83L4 21.41c.39.39.9.59 1.41.59.51 0 1.02-.2 1.41-.59l7.78-7.78 2.81-2.81c.8-.78.8-2.07 0-2.86zM5.41 20L4 18.59l7.72-7.72 1.47 1.35L5.41 20z\"/>\n",
              "  </svg>\n",
              "      </button>\n",
              "      \n",
              "  <style>\n",
              "    .colab-df-container {\n",
              "      display:flex;\n",
              "      flex-wrap:wrap;\n",
              "      gap: 12px;\n",
              "    }\n",
              "\n",
              "    .colab-df-convert {\n",
              "      background-color: #E8F0FE;\n",
              "      border: none;\n",
              "      border-radius: 50%;\n",
              "      cursor: pointer;\n",
              "      display: none;\n",
              "      fill: #1967D2;\n",
              "      height: 32px;\n",
              "      padding: 0 0 0 0;\n",
              "      width: 32px;\n",
              "    }\n",
              "\n",
              "    .colab-df-convert:hover {\n",
              "      background-color: #E2EBFA;\n",
              "      box-shadow: 0px 1px 2px rgba(60, 64, 67, 0.3), 0px 1px 3px 1px rgba(60, 64, 67, 0.15);\n",
              "      fill: #174EA6;\n",
              "    }\n",
              "\n",
              "    [theme=dark] .colab-df-convert {\n",
              "      background-color: #3B4455;\n",
              "      fill: #D2E3FC;\n",
              "    }\n",
              "\n",
              "    [theme=dark] .colab-df-convert:hover {\n",
              "      background-color: #434B5C;\n",
              "      box-shadow: 0px 1px 3px 1px rgba(0, 0, 0, 0.15);\n",
              "      filter: drop-shadow(0px 1px 2px rgba(0, 0, 0, 0.3));\n",
              "      fill: #FFFFFF;\n",
              "    }\n",
              "  </style>\n",
              "\n",
              "      <script>\n",
              "        const buttonEl =\n",
              "          document.querySelector('#df-b1d2e0ec-c421-4c2f-ba13-301d17e96641 button.colab-df-convert');\n",
              "        buttonEl.style.display =\n",
              "          google.colab.kernel.accessAllowed ? 'block' : 'none';\n",
              "\n",
              "        async function convertToInteractive(key) {\n",
              "          const element = document.querySelector('#df-b1d2e0ec-c421-4c2f-ba13-301d17e96641');\n",
              "          const dataTable =\n",
              "            await google.colab.kernel.invokeFunction('convertToInteractive',\n",
              "                                                     [key], {});\n",
              "          if (!dataTable) return;\n",
              "\n",
              "          const docLinkHtml = 'Like what you see? Visit the ' +\n",
              "            '<a target=\"_blank\" href=https://colab.research.google.com/notebooks/data_table.ipynb>data table notebook</a>'\n",
              "            + ' to learn more about interactive tables.';\n",
              "          element.innerHTML = '';\n",
              "          dataTable['output_type'] = 'display_data';\n",
              "          await google.colab.output.renderOutput(dataTable, element);\n",
              "          const docLink = document.createElement('div');\n",
              "          docLink.innerHTML = docLinkHtml;\n",
              "          element.appendChild(docLink);\n",
              "        }\n",
              "      </script>\n",
              "    </div>\n",
              "  </div>\n",
              "  "
            ]
          },
          "metadata": {},
          "execution_count": 19
        }
      ]
    }
  ]
}